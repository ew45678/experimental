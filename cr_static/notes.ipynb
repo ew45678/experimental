{
 "metadata": {
  "name": ""
 },
 "nbformat": 3,
 "nbformat_minor": 0,
 "worksheets": [
  {
   "cells": [
    {
     "cell_type": "markdown",
     "metadata": {},
     "source": [
      "# Translating Python functions to Javascript at runtime"
     ]
    },
    {
     "cell_type": "markdown",
     "metadata": {},
     "source": [
      "We describe a simple virtual machine and intermediate language used to represent Python functions in a language-independent way. This allows us to translate these functions in other dynamical languages such as Javascript.\n",
      "\n",
      "This method is not generic and is severely limited in the functions that can be handled. It can only work on functions that are *effectively* simple in the operations they perform on their inputs. In particular, conditional branching is not supported within the functions (but it *is* supported within functions of the instruction set). Also, no dynamic feature (with respect to the input variables) is supported."
     ]
    },
    {
     "cell_type": "markdown",
     "metadata": {},
     "source": [
      "Finally, this method requires reimplementing a set of Python functions in Javascript. Our argument is that this set is small and only contains simple functions (Python & NumPy), so that this method is practically useful for the applications we target."
     ]
    },
    {
     "cell_type": "markdown",
     "metadata": {},
     "source": [
      "## Description of the virtual machine and the intermediate language"
     ]
    },
    {
     "cell_type": "markdown",
     "metadata": {},
     "source": [
      "Our **virtual machine** consists of:\n",
      "\n",
      "* An **instruction set** $I = \\{\\phi_1, \\ldots, \\phi_P\\}$ of pure functions.\n",
      "* A set of **effector methods** $E = \\{\\psi_1, \\ldots, \\psi_Q\\}$."
     ]
    },
    {
     "cell_type": "markdown",
     "metadata": {},
     "source": [
      "The representation we want to compile from runtime Python code consists of:\n",
      "\n",
      "* A set of **symbolic variables** $V=\\{x_1, \\ldots, x_N\\}$ (**symbol table**). The data types of these variables can be:\n",
      "  * number\n",
      "  * string\n",
      "  * list/array of numbers\n",
      "* A set of **target Python functions** $F = \\{f_1, \\ldots, f_S\\}$ that have access to all variables."
     ]
    },
    {
     "cell_type": "markdown",
     "metadata": {},
     "source": [
      "## Context"
     ]
    },
    {
     "cell_type": "markdown",
     "metadata": {},
     "source": [
      "The entire virtual machine (instruction set $I$ and effector methods $E$) is implemented in Python **and** Javascript. Besides, we assume that we have access to all our symbolic variables in both Python and Javascript. **Our goal is to translate all Python functions $f \\in F$ in Javascript**.\n",
      "\n",
      "We want to compile Python functions **at runtime** to this intermediate representation (compiler **frontend**). Then, we generate Javascript code from the intermediate representation (compiler **backend**)."
     ]
    },
    {
     "cell_type": "markdown",
     "metadata": {},
     "source": [
      "## Assumptions on the intermediage language"
     ]
    },
    {
     "cell_type": "markdown",
     "metadata": {},
     "source": [
      "We put a lot of restrictions on the semantics of our target functions $F$. By no means do we have to implement the full semantics of Python. The method we propose is only useful when our simplifying assumptions are satisfied."
     ]
    },
    {
     "cell_type": "markdown",
     "metadata": {},
     "source": [
      "These assumptions concern every function $f \\in F$:\n",
      "\n",
      "1. A target function consists of a fixed and ordered sequence of operations that is entirely determined at runtime, and that does not change after initialization. That sequence is not easily obtainable statically (from source code), so we have to obtain it at runtime (initialization time).\n",
      "\n",
      "2. Every operation is of the form:\n",
      "\n",
      "$$\\psi_q(y_1, \\ldots, y_m), \\quad \\textrm{with} \\quad y_j =  \\phi_a(\\phi_{b_1}(x_\\alpha, \\ldots), \\phi_{b_2}(\\phi_{c_2}(x_\\beta, \\ldots), \\phi_{c_3}(x_\\gamma, \\ldots), \\ldots), \\ldots)$$\n",
      "\n",
      "In other words, an operation consists of an effector method applied on successive transformations of our symbolic variables $V$."
     ]
    },
    {
     "cell_type": "markdown",
     "metadata": {},
     "source": [
      "## Compiler frontend"
     ]
    },
    {
     "cell_type": "markdown",
     "metadata": {},
     "source": [
      "Here, we describe the compiler frontend. The idea is the following. At runtime, we have a function $f(\\lambda_1, \\ldots, \\lambda_r) \\in F$ in Python (the arguments belong to the set of symbolic variables $V$). This function may involve many Python modules and functions, and it may use many dynamic features. However, we assume that the we have control on the operations effectively performed on the inputs $\\lambda_1, \\ldots, \\lambda_r$. If this sequence is determined for good at initialization time, then we can try to deconstruct it dynamically."
     ]
    },
    {
     "cell_type": "markdown",
     "metadata": {},
     "source": [
      "What is the sequence of operations performed on the arguments $\\lambda_1, \\ldots, \\lambda_r$?"
     ]
    },
    {
     "cell_type": "markdown",
     "metadata": {},
     "source": [
      "Theoretically, the goal is to call $f$ with all possible set of inputs (which is finite but huge), and save the results. Or we could infer the operation. More realistically, what we propose here is to call $f$ with custom Python objects as arguments. These objects reimplement many arithmetic operations so that we can track the sequence of operations performed on them."
     ]
    },
    {
     "cell_type": "markdown",
     "metadata": {},
     "source": [
      "This means that we cannot possibly do anything we want with these arguments. **Our major assumption is that any operation performed directly or indirectly on the arguments belongs to our instruction set $I$**."
     ]
    },
    {
     "cell_type": "markdown",
     "metadata": {},
     "source": [
      "In effect, this operation is equivalent to decompile the operations of a stack machine into a syntax tree. However, we do not need to explicitly reconstruct the syntax tree. We can translate the stack machine operations in a language-independent representation, and compile it again in the target language."
     ]
    },
    {
     "cell_type": "markdown",
     "metadata": {},
     "source": [
      "### Dynamic decompilation"
     ]
    },
    {
     "cell_type": "markdown",
     "metadata": {},
     "source": [
      "We propose here an implementation to recover the sequence of operations executed on a function's arguments by a compiled Python function available at runtime."
     ]
    },
    {
     "cell_type": "markdown",
     "metadata": {},
     "source": [
      "* We have a global list $L$ of operations that we construct dynamically. The initialization consists in calling a function $f$ with a set of special objects as arguments."
     ]
    },
    {
     "cell_type": "markdown",
     "metadata": {},
     "source": [
      "* We hijack the instructions of the instruction set to record, in order, every instruction executed. We record the identifier $\\phi$ of the instruction, and the identifiers $(\\alpha_{\\textrm{in}_1}, \\ldots, \\alpha_{\\textrm{in}_t})$ of the input variables. Then, we create a new GUID $\\beta_{\\textrm{out}}$ for the output variable returned by that instruction. We append $(\\beta_{\\textrm{out}}, \\phi, (\\alpha_{\\textrm{in}_1}, \\ldots, \\alpha_{\\textrm{in}_t}))$ to $L$. Then, we make the operation return the newly created variable $\\beta_{\\textrm{out}}$."
     ]
    },
    {
     "cell_type": "markdown",
     "metadata": {},
     "source": [
      "* If the output of a previous operation is used in a subsequent operation, then we will know it since this output has a new globally unique identifier. In other words, an output of operation $n$ can become an input of operation $n+k$."
     ]
    },
    {
     "cell_type": "markdown",
     "metadata": {},
     "source": [
      "* At the end, we have a list $L$ of operations. Every operation calls a function of the instruction set $I$, on one or several symbolic variables, and assigns the result to a new variable. The input variables are either elements of our initial set of variables $V$, or have been created by a previous operation of the list."
     ]
    },
    {
     "cell_type": "markdown",
     "metadata": {},
     "source": [
      "* Some operations of the list involve an effector method applied on symbolic variables. These operations do not return anything. These effector methods represent what the machine can do ultimately."
     ]
    },
    {
     "cell_type": "markdown",
     "metadata": {},
     "source": [
      "## Compiler backend"
     ]
    },
    {
     "cell_type": "markdown",
     "metadata": {},
     "source": [
      "Finally, from our reconstructed list $L$, it is easy to generate dynamically code in a dynamic language such as Javascript. Specifically, we translate every item $(\\beta_{\\textrm{out}}, \\phi, (\\alpha_{\\textrm{in}_1}, \\ldots, \\alpha_{\\textrm{in}_t}))$ of the list into:"
     ]
    },
    {
     "cell_type": "markdown",
     "metadata": {},
     "source": [
      "```javascript\n",
      "var beta_out = phi(alpha_in1, ..., alpha_int);\n",
      "```"
     ]
    },
    {
     "cell_type": "markdown",
     "metadata": {},
     "source": [
      "Since we initially assumed that all functions of our instruction set $I$ and the effector methods as well are implemented in Javascript, we can translate all our functions $f \\in F$ in Javascript."
     ]
    },
    {
     "cell_type": "markdown",
     "metadata": {},
     "source": [
      "## Implementation\n",
      "\n",
      "We plan to create an implementation of this method, that could be reused in applications as is."
     ]
    },
    {
     "cell_type": "markdown",
     "metadata": {},
     "source": [
      "* To initialize the machine, the user provides $I$, $E$ and $V$ in the following form:\n",
      "  * $V$ is a list of symbol names\n",
      "  * $E$ and $I$ are dictionaries (namespaces). Each key is a module name, each value is a list of function names defined in this module. (Note: should we merge $E$ and $I$ into a single structure and abstraction?)"
     ]
    },
    {
     "cell_type": "markdown",
     "metadata": {},
     "source": [
      "* Then, the user provides a compiled function $f$ (as a Python object `f` of type `function`), and the machine returns an abstract representation of this function (specifically, the list $L$). We will monkey-patch the modules in $E$ and $I$ dynamically."
     ]
    },
    {
     "cell_type": "markdown",
     "metadata": {},
     "source": [
      "* The user can call a Javascript translator on this list $L$ to generate Javascript code dynamically."
     ]
    },
    {
     "cell_type": "markdown",
     "metadata": {},
     "source": [
      "* In addition, it is up to the user to provide a language-independent way to represent the variables defined in the symbol table $V$, and to recreate them in Javascript."
     ]
    },
    {
     "cell_type": "markdown",
     "metadata": {},
     "source": [
      "Test-Driven Development is probably a good way to implement this machine. We should start with simple examples."
     ]
    },
    {
     "cell_type": "markdown",
     "metadata": {},
     "source": [
      "## Test 1"
     ]
    },
    {
     "cell_type": "markdown",
     "metadata": {},
     "source": [
      "Let's define the instruction set."
     ]
    },
    {
     "cell_type": "code",
     "collapsed": false,
     "input": [
      "I = {'math': ['exp']}"
     ],
     "language": "python",
     "metadata": {},
     "outputs": []
    },
    {
     "cell_type": "markdown",
     "metadata": {},
     "source": [
      "Let's define the effector methods."
     ]
    },
    {
     "cell_type": "code",
     "collapsed": false,
     "input": [
      "E = {'do': ['fun1', 'fun2']}"
     ],
     "language": "python",
     "metadata": {},
     "outputs": [],
     "prompt_number": 9
    },
    {
     "cell_type": "markdown",
     "metadata": {},
     "source": [
      "Let's define the symbol table."
     ]
    },
    {
     "cell_type": "code",
     "collapsed": false,
     "input": [
      "V = ['x', 'a', 'b']"
     ],
     "language": "python",
     "metadata": {},
     "outputs": [],
     "prompt_number": 3
    },
    {
     "cell_type": "markdown",
     "metadata": {},
     "source": [
      "Let's define the function to translate."
     ]
    },
    {
     "cell_type": "code",
     "collapsed": false,
     "input": [
      "import math\n",
      "# a and b are part of the symbol table.\n",
      "# For simplicity here, we assume that\n",
      "# accesses to the symbol table are\n",
      "# explicit. This makes monkey patch\n",
      "# easier.\n",
      "a = 1.\n",
      "b = 2.\n",
      "def get_var(symbol):\n",
      "    # This will be monkey_patched\n",
      "    return globals()[symbol]\n",
      "def f(x):\n",
      "    a = get_var('a')\n",
      "    b = get_var('b')\n",
      "    print a\n",
      "    return math.exp(a*x+b)"
     ],
     "language": "python",
     "metadata": {},
     "outputs": [],
     "prompt_number": 70
    },
    {
     "cell_type": "markdown",
     "metadata": {},
     "source": [
      "Let's test this function."
     ]
    },
    {
     "cell_type": "code",
     "collapsed": false,
     "input": [
      "f(1)"
     ],
     "language": "python",
     "metadata": {},
     "outputs": [
      {
       "metadata": {},
       "output_type": "pyout",
       "prompt_number": 38,
       "text": [
        "20.085536923187668"
       ]
      }
     ],
     "prompt_number": 38
    },
    {
     "cell_type": "markdown",
     "metadata": {},
     "source": [
      "Now, we are going to translate this function in Javascript."
     ]
    },
    {
     "cell_type": "code",
     "collapsed": false,
     "input": [
      "L = []\n",
      "def addop(fun, args, module='__builtin__'):\n",
      "    L.append((module, fun, args))\n",
      "def resetop():\n",
      "    L[:] = []"
     ],
     "language": "python",
     "metadata": {},
     "outputs": [],
     "prompt_number": 67
    },
    {
     "cell_type": "code",
     "collapsed": false,
     "input": [
      "import uuid\n",
      "def newguid():\n",
      "    return uuid.uuid4().get_hex()"
     ],
     "language": "python",
     "metadata": {},
     "outputs": [],
     "prompt_number": 50
    },
    {
     "cell_type": "code",
     "collapsed": false,
     "input": [
      "class Symbol(object):\n",
      "    def __init__(self, name=None):\n",
      "        if name is None:\n",
      "            name = newguid()\n",
      "        self.name = name\n",
      "        \n",
      "    def __add__(self, b):\n",
      "        add_op('__add__', (self, b))\n",
      "        return Symbol(newguid())\n",
      "    \n",
      "    def __mul__(self, b):\n",
      "        add_op('__mul__', (self, b))\n",
      "        return Symbol(newguid())\n",
      "    \n",
      "    def __repr__(self):\n",
      "        return '<Symbol {name}>'.format(name=self.name)"
     ],
     "language": "python",
     "metadata": {},
     "outputs": [],
     "prompt_number": 59
    },
    {
     "cell_type": "code",
     "collapsed": false,
     "input": [
      "class MonkeySet(object):\n",
      "    def __init__(self, module):\n",
      "        self.module = module\n",
      "        \n",
      "    def __getattr__(self, fun):\n",
      "        return lambda *args: addop(fun, args, \n",
      "                                   module=self.module)"
     ],
     "language": "python",
     "metadata": {},
     "outputs": [],
     "prompt_number": 62
    },
    {
     "cell_type": "code",
     "collapsed": false,
     "input": [
      "symbol_table = {var: Symbol() for var in V}\n",
      "symbol_table"
     ],
     "language": "python",
     "metadata": {},
     "outputs": [
      {
       "metadata": {},
       "output_type": "pyout",
       "prompt_number": 61,
       "text": [
        "{'a': <Symbol 78e80254122b4e32b221fd63b3092d9f>,\n",
        " 'b': <Symbol efdf79fd25f84e4790f18bfe2c38f0d0>,\n",
        " 'x': <Symbol 18c2ad5013394d05bfe00959538b4b40>}"
       ]
      }
     ],
     "prompt_number": 61
    },
    {
     "cell_type": "code",
     "collapsed": false,
     "input": [
      "instruction_set = {module: MonkeySet(module) for module in I.keys()}"
     ],
     "language": "python",
     "metadata": {},
     "outputs": [],
     "prompt_number": 63
    },
    {
     "cell_type": "code",
     "collapsed": false,
     "input": [
      "def monkey_get_var(symbol):\n",
      "    return symbol_table[symbol]\n",
      "namespace = {'get_var': monkey_get_var}\n",
      "namespace.update(instruction_set)\n",
      "namespace.update(symbol_table)\n",
      "namespace['f'] = f\n",
      "resetop()\n",
      "eval('f(x)', namespace)"
     ],
     "language": "python",
     "metadata": {},
     "outputs": [
      {
       "ename": "TypeError",
       "evalue": "unsupported operand type(s) for *: 'float' and 'Symbol'",
       "output_type": "pyerr",
       "traceback": [
        "\u001b[1;31m---------------------------------------------------------------------------\u001b[0m\n\u001b[1;31mTypeError\u001b[0m                                 Traceback (most recent call last)",
        "\u001b[1;32m<ipython-input-71-edc1a51b5ecd>\u001b[0m in \u001b[0;36m<module>\u001b[1;34m()\u001b[0m\n\u001b[0;32m      6\u001b[0m \u001b[0mnamespace\u001b[0m\u001b[1;33m[\u001b[0m\u001b[1;34m'f'\u001b[0m\u001b[1;33m]\u001b[0m \u001b[1;33m=\u001b[0m \u001b[0mf\u001b[0m\u001b[1;33m\u001b[0m\u001b[0m\n\u001b[0;32m      7\u001b[0m \u001b[0mresetop\u001b[0m\u001b[1;33m(\u001b[0m\u001b[1;33m)\u001b[0m\u001b[1;33m\u001b[0m\u001b[0m\n\u001b[1;32m----> 8\u001b[1;33m \u001b[0meval\u001b[0m\u001b[1;33m(\u001b[0m\u001b[1;34m'f(x)'\u001b[0m\u001b[1;33m,\u001b[0m \u001b[0mnamespace\u001b[0m\u001b[1;33m)\u001b[0m\u001b[1;33m\u001b[0m\u001b[0m\n\u001b[0m",
        "\u001b[1;32m<string>\u001b[0m in \u001b[0;36m<module>\u001b[1;34m()\u001b[0m\n",
        "\u001b[1;32m<ipython-input-70-6c12bec3486e>\u001b[0m in \u001b[0;36mf\u001b[1;34m(x)\u001b[0m\n\u001b[0;32m     14\u001b[0m     \u001b[0mb\u001b[0m \u001b[1;33m=\u001b[0m \u001b[0mget_var\u001b[0m\u001b[1;33m(\u001b[0m\u001b[1;34m'b'\u001b[0m\u001b[1;33m)\u001b[0m\u001b[1;33m\u001b[0m\u001b[0m\n\u001b[0;32m     15\u001b[0m     \u001b[1;32mprint\u001b[0m \u001b[0ma\u001b[0m\u001b[1;33m\u001b[0m\u001b[0m\n\u001b[1;32m---> 16\u001b[1;33m     \u001b[1;32mreturn\u001b[0m \u001b[0mmath\u001b[0m\u001b[1;33m.\u001b[0m\u001b[0mexp\u001b[0m\u001b[1;33m(\u001b[0m\u001b[0ma\u001b[0m\u001b[1;33m*\u001b[0m\u001b[0mx\u001b[0m\u001b[1;33m+\u001b[0m\u001b[0mb\u001b[0m\u001b[1;33m)\u001b[0m\u001b[1;33m\u001b[0m\u001b[0m\n\u001b[0m",
        "\u001b[1;31mTypeError\u001b[0m: unsupported operand type(s) for *: 'float' and 'Symbol'"
       ]
      },
      {
       "output_type": "stream",
       "stream": "stdout",
       "text": [
        "1.0\n"
       ]
      }
     ],
     "prompt_number": 71
    },
    {
     "cell_type": "code",
     "collapsed": false,
     "input": [
      "class Machine(object):\n",
      "    def __init__(self, instruction_set=None, \n",
      "                 effectors=None, variables=None):\n",
      "        self.I = instruction_set\n",
      "        self.E = effectors\n",
      "        self.V = variables\n",
      "        \n",
      "    #def compile_function(self, f):\n",
      "    #    return eval('f(x)', loc, glob)"
     ],
     "language": "python",
     "metadata": {},
     "outputs": [],
     "prompt_number": 44
    },
    {
     "cell_type": "code",
     "collapsed": false,
     "input": [
      "machine = Machine(instruction_set=I, effectors=E, variables=V)\n",
      "f_js = machine.to_javascript(f)\n",
      "print(f_js)"
     ],
     "language": "python",
     "metadata": {},
     "outputs": []
    },
    {
     "cell_type": "code",
     "collapsed": false,
     "input": [
      "#m = Machine(I,E,V)\n",
      "#m.compile_function(f)\n",
      "#f.func_code.co_varnames"
     ],
     "language": "python",
     "metadata": {},
     "outputs": [],
     "prompt_number": 45
    }
   ],
   "metadata": {}
  }
 ]
}