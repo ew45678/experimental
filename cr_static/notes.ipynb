{
 "metadata": {
  "name": ""
 },
 "nbformat": 3,
 "nbformat_minor": 0,
 "worksheets": [
  {
   "cells": [
    {
     "cell_type": "markdown",
     "metadata": {},
     "source": [
      "# Translating Python functions to Javascript at runtime"
     ]
    },
    {
     "cell_type": "markdown",
     "metadata": {},
     "source": [
      "We describe a simple virtual machine and intermediate language used to represent Python functions in a language-independent way. This allows us to translate these functions in other dynamical languages such as Javascript.\n",
      "\n",
      "This method is not generic and is severely limited in the functions that can be handled. It can only work on functions that are *effectively* simple in the operations they perform on their inputs. In particular, conditional branching is not supported within the functions (but it *is* supported within functions of the instruction set). Also, no dynamic feature (with respect to the input variables) is supported."
     ]
    },
    {
     "cell_type": "markdown",
     "metadata": {},
     "source": [
      "Finally, this method requires reimplementing a set of Python functions in Javascript. Our argument is that this set is small and only contains simple functions (Python & NumPy), so that this method is practically useful for the applications we target."
     ]
    },
    {
     "cell_type": "markdown",
     "metadata": {},
     "source": [
      "## Description of the virtual machine and the intermediate language"
     ]
    },
    {
     "cell_type": "markdown",
     "metadata": {},
     "source": [
      "Our **virtual machine** consists of:\n",
      "\n",
      "* An **instruction set** $I = \\{\\phi_1, \\ldots, \\phi_P\\}$ of pure functions.\n",
      "* A set of **effector methods** $E = \\{\\psi_1, \\ldots, \\psi_Q\\}$."
     ]
    },
    {
     "cell_type": "markdown",
     "metadata": {},
     "source": [
      "The representation we want to compile from runtime Python code consists of:\n",
      "\n",
      "* A set of **symbolic variables** $V=\\{x_1, \\ldots, x_N\\}$. The data types of these variables can be:\n",
      "  * number\n",
      "  * string\n",
      "  * list/array of numbers\n",
      "* A set of **target Python functions** $F = \\{f_1, \\ldots, f_S\\}$ that have access to all variables."
     ]
    },
    {
     "cell_type": "markdown",
     "metadata": {},
     "source": [
      "## Context"
     ]
    },
    {
     "cell_type": "markdown",
     "metadata": {},
     "source": [
      "The entire virtual machine (instruction set $I$ and effector methods $E$) is implemented in Python **and** Javascript. Besides, we assume that we have access to all our symbolic variables in both Python and Javascript. **Our goal is to translate all Python functions $f \\in F$ in Javascript**.\n",
      "\n",
      "We want to compile Python functions **at runtime** to this intermediate representation (compiler **frontend**). Then, we generate Javascript code from the intermediate representation (compiler **backend**)."
     ]
    },
    {
     "cell_type": "markdown",
     "metadata": {},
     "source": [
      "## Assumptions on the intermediage language"
     ]
    },
    {
     "cell_type": "markdown",
     "metadata": {},
     "source": [
      "We put a lot of restrictions on the semantics of our target functions $F$. By no means do we have to implement the full semantics of Python. The method we propose is only useful when our simplifying assumptions are satisfied."
     ]
    },
    {
     "cell_type": "markdown",
     "metadata": {},
     "source": [
      "These assumptions concern every function $f \\in F$:\n",
      "\n",
      "1. A target function consists of a fixed and ordered sequence of operations that is entirely determined at runtime, and that does not change after initialization. That sequence is not easily obtainable statically (from source code), so we have to obtain it at runtime (initialization time).\n",
      "\n",
      "2. Every operation is of the form:\n",
      "\n",
      "$$\\psi_q(y_1, \\ldots, y_m), \\quad \\textrm{with} \\quad y_j =  \\phi_a(\\phi_{b_1}(x_\\alpha, \\ldots), \\phi_{b_2}(\\phi_{c_2}(x_\\beta, \\ldots), \\phi_{c_3}(x_\\gamma, \\ldots), \\ldots), \\ldots)$$\n",
      "\n",
      "In other words, an operation consists of an effector method applied on successive transformations of our symbolic variables $V$."
     ]
    },
    {
     "cell_type": "markdown",
     "metadata": {},
     "source": [
      "## Compiler frontend"
     ]
    },
    {
     "cell_type": "markdown",
     "metadata": {},
     "source": [
      "Here, we describe the compiler frontend. The idea is the following. At runtime, we have a function $f(\\lambda_1, \\ldots, \\lambda_r) \\in F$ in Python (the arguments belong to the set of symbolic variables $V$). This function may involve many Python modules and functions, and it may use many dynamic features. However, we assume that the we have control on the operations effectively performed on the inputs $\\lambda_1, \\ldots, \\lambda_r$. If this sequence is determined for good at initialization time, then we can try to deconstruct it dynamically."
     ]
    },
    {
     "cell_type": "markdown",
     "metadata": {},
     "source": [
      "What is the sequence of operations performed on the arguments $\\lambda_1, \\ldots, \\lambda_r$?"
     ]
    },
    {
     "cell_type": "markdown",
     "metadata": {},
     "source": [
      "Theoretically, the goal is to call $f$ with all possible set of inputs (which is finite but huge), and save the results. Or we could infer the operation. More realistically, what we propose here is to call $f$ with custom Python objects as arguments. These objects reimplement many arithmetic operations so that we can track the sequence of operations performed on them."
     ]
    },
    {
     "cell_type": "markdown",
     "metadata": {},
     "source": [
      "This means that we cannot possibly do anything we want with these arguments. **Our major assumption is that any operation performed directly or indirectly on the arguments belongs to our instruction set $I$**."
     ]
    },
    {
     "cell_type": "markdown",
     "metadata": {},
     "source": [
      "In effect, this operation is equivalent to decompile the operations of a stack machine into a syntax tree. However, we do not need to explicitly reconstruct the syntax tree. We can translate the stack machine operations in a language-independent representation, and compile it again in the target language."
     ]
    },
    {
     "cell_type": "markdown",
     "metadata": {},
     "source": [
      "### Dynamic decompilation"
     ]
    },
    {
     "cell_type": "markdown",
     "metadata": {},
     "source": [
      "We propose here an implementation to recover the sequence of operations executed on a function's arguments by a compiled Python function available at runtime."
     ]
    },
    {
     "cell_type": "markdown",
     "metadata": {},
     "source": [
      "* We have a global list $L$ of operations that we construct dynamically. The initialization consists in calling a function $f$ with a set of special objects as arguments."
     ]
    },
    {
     "cell_type": "markdown",
     "metadata": {},
     "source": [
      "* We hijack the instructions of the instruction set to record, in order, every instruction executed. We record the identifier $\\phi$ of the instruction, and the identifiers $(\\alpha_{\\textrm{in}_1}, \\ldots, \\alpha_{\\textrm{in}_t})$ of the input variables. Then, we create a new GUID $\\beta_{\\textrm{out}}$ for the output variable returned by that instruction. We append $(\\beta_{\\textrm{out}}, \\phi, (\\alpha_{\\textrm{in}_1}, \\ldots, \\alpha_{\\textrm{in}_t}))$ to $L$. Then, we make the operation return the newly created variable $\\beta_{\\textrm{out}}$."
     ]
    },
    {
     "cell_type": "markdown",
     "metadata": {},
     "source": [
      "* If the output of a previous operation is used in a subsequent operation, then we will know it since this output has a new globally unique identifier. In other words, an output of operation $n$ can become an input of operation $n+k$."
     ]
    },
    {
     "cell_type": "markdown",
     "metadata": {},
     "source": [
      "* At the end, we have a list $L$ of operations. Every operation calls a function of the instruction set $I$, on one or several symbolic variables, and assigns the result to a new variable. The input variables are either elements of our initial set of variables $V$, or have been created by a previous operation of the list."
     ]
    },
    {
     "cell_type": "markdown",
     "metadata": {},
     "source": [
      "* Some operations of the list involve an effector method applied on symbolic variables. These operations do not return anything. These effector methods represent what the machine can do ultimately."
     ]
    },
    {
     "cell_type": "markdown",
     "metadata": {},
     "source": [
      "## Compiler backend"
     ]
    },
    {
     "cell_type": "markdown",
     "metadata": {},
     "source": [
      "Finally, from our reconstructed list $L$, it is easy to generate dynamically code in a dynamic language such as Javascript. Specifically, we translate every item $(\\beta_{\\textrm{out}}, \\phi, (\\alpha_{\\textrm{in}_1}, \\ldots, \\alpha_{\\textrm{in}_t}))$ of the list into:"
     ]
    },
    {
     "cell_type": "markdown",
     "metadata": {},
     "source": [
      "```javascript\n",
      "var beta_out = phi(alpha_in1, ..., alpha_int);\n",
      "```"
     ]
    },
    {
     "cell_type": "markdown",
     "metadata": {},
     "source": [
      "Since we initially assumed that all functions of our instruction set $I$ and the effector methods as well are implemented in Javascript, we can translate all our functions $f \\in F$ in Javascript."
     ]
    },
    {
     "cell_type": "markdown",
     "metadata": {},
     "source": [
      "## Implementation\n",
      "\n",
      "We plan to create an implementation of this method, that could be reused in applications as is.\n",
      "\n",
      "* To initialize the machine, the user provides $I$, $E$ and $V$ in some form. Only the symbols are needed, not the implementation nor the internal details of these functions of variables. The machine will create custom implementations for the compiler anyway.\n",
      "* Then, the user provides a compiled function $f$ (as a Python object `f` of type `function`), and the machine returns an abstract representation of this function (specifically, the list $L$). When this function $f$ calls instructions of the instruction set $I$, we need to be able to reroute these calls to our custom implementation of $I$, so we need to know the name of the Python module or class that implements the original instruction set $I$. Then, the machine will be able to monkey patch $I$.\n",
      "* The user can call a Javascript translator on this list $L$ to generate Javascript code dynamically."
     ]
    },
    {
     "cell_type": "markdown",
     "metadata": {},
     "source": [
      "Test-Driven Development is probably a good way to implement this machine. We should start with simple examples."
     ]
    }
   ],
   "metadata": {}
  }
 ]
}