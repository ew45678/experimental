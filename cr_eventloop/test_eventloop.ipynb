{
 "metadata": {
  "kernelspec": {
   "codemirror_mode": {
    "name": "python",
    "version": 2
   },
   "display_name": "Python 2",
   "language": "python",
   "name": "python2"
  },
  "name": "",
  "signature": "sha256:932f479feaae2734d6c2e14073d0b9e5817f9d19fe3e08f63281930b58b87225"
 },
 "nbformat": 3,
 "nbformat_minor": 0,
 "worksheets": [
  {
   "cells": [
    {
     "cell_type": "markdown",
     "metadata": {},
     "source": [
      "# Testing Vispy.js in the notebook"
     ]
    },
    {
     "cell_type": "code",
     "collapsed": false,
     "input": [
      "import numpy as np"
     ],
     "language": "python",
     "metadata": {},
     "outputs": []
    },
    {
     "cell_type": "markdown",
     "metadata": {},
     "source": [
      "We load the vispy.js library in the notebook."
     ]
    },
    {
     "cell_type": "code",
     "collapsed": false,
     "input": [
      "%%javascript\n",
      "require.config({\n",
      "    paths: {\n",
      "        \"jquery-mousewheel\": \"//cdnjs.cloudflare.com/ajax/libs/jquery-mousewheel/3.1.11/jquery.mousewheel.min\",\n",
      "    }\n",
      "});\n",
      "if (window.vispy == undefined) {\n",
      "    $.getScript(\"/files/vispy.js/dist/vispy.min.js\", function () {\n",
      "        require([\"vispy\", \"jquery-mousewheel\"], function(vispy){\n",
      "            console.log(\"Vispy loaded.\");\n",
      "            window.vispy = vispy;\n",
      "        });\n",
      "    });\n",
      "}"
     ],
     "language": "python",
     "metadata": {},
     "outputs": []
    },
    {
     "cell_type": "markdown",
     "metadata": {},
     "source": [
      "IPython imports."
     ]
    },
    {
     "cell_type": "code",
     "collapsed": false,
     "input": [
      "from IPython.html import widgets\n",
      "from IPython.display import display_javascript, HTML\n",
      "from IPython.utils.traitlets import Unicode\n",
      "from tornado.ioloop import PeriodicCallback"
     ],
     "language": "python",
     "metadata": {},
     "outputs": []
    },
    {
     "cell_type": "markdown",
     "metadata": {},
     "source": [
      "We create the widget, Python side."
     ]
    },
    {
     "cell_type": "code",
     "collapsed": false,
     "input": [
      "class VispyWidget(widgets.DOMWidget):\n",
      "    _view_name = Unicode('VispyView', sync=True)\n",
      "    \n",
      "    def __init__(self, *args, **kwargs):\n",
      "        widgets.DOMWidget.__init__(self, *args, **kwargs)\n",
      "        self.on_msg(self.events_received)\n",
      "    \n",
      "    def poll_events(self):\n",
      "        self.send(None)\n",
      "        \n",
      "    def events_received(self, _, msg):\n",
      "        if msg['msg_type'] == 'events':\n",
      "            events = msg['contents']\n",
      "            print(\"{0} events received.\".format(len(events)))\n",
      "            \n",
      "    def start_event_loop(self, dt=.1):\n",
      "        self._pc = PeriodicCallback(self.poll_events, dt*1000)\n",
      "        self._pc.start()\n",
      "        \n",
      "    def stop_event_loop(self):\n",
      "        self._pc.stop()"
     ],
     "language": "python",
     "metadata": {},
     "outputs": []
    },
    {
     "cell_type": "markdown",
     "metadata": {},
     "source": [
      "Now, the widget JavaScript side."
     ]
    },
    {
     "cell_type": "code",
     "collapsed": false,
     "input": [
      "%%javascript\n",
      "require([\"widgets/js/widget\", \"widgets/js/manager\"],\n",
      "function(widget, manager){\n",
      "    var VispyView = IPython.DOMWidgetView.extend({\n",
      "        render: function(){ \n",
      "\n",
      "            var canvas = $('<canvas></canvas>');\n",
      "            canvas.css('width', '500px').css('height', '200px');\n",
      "            this.$el.append(canvas);\n",
      "\n",
      "            var c = vispy.init(canvas);\n",
      "            c.call(['FUNC', 'clearColor', 0, 0, 0, 1]);\n",
      "            c.call(['FUNC', 'clear', 'COLOR_BUFFER_BIT | DEPTH_BUFFER_BIT']);\n",
      "            \n",
      "            this.c = c;\n",
      "        },\n",
      "        \n",
      "        on_msg: function(e) {\n",
      "            this.send_events();\n",
      "        },\n",
      "        \n",
      "        send_events: function(){\n",
      "            // Retrieve and flush the event queue.\n",
      "            var events = this.c.event_queue.get();\n",
      "            this.c.event_queue.clear();\n",
      "            // Create the message.\n",
      "            var msg = {\n",
      "                msg_type: 'events',\n",
      "                contents: events\n",
      "            };\n",
      "            // Send the message.\n",
      "            this.send(msg);\n",
      "        },\n",
      "    });\n",
      "\n",
      "    IPython.WidgetManager.register_widget_view('VispyView', VispyView);\n",
      "});"
     ],
     "language": "python",
     "metadata": {},
     "outputs": []
    },
    {
     "cell_type": "code",
     "collapsed": false,
     "input": [
      "w = VispyWidget()\n",
      "w"
     ],
     "language": "python",
     "metadata": {},
     "outputs": []
    },
    {
     "cell_type": "code",
     "collapsed": false,
     "input": [
      "w.stop_event_loop()"
     ],
     "language": "python",
     "metadata": {},
     "outputs": []
    },
    {
     "cell_type": "code",
     "collapsed": false,
     "input": [],
     "language": "python",
     "metadata": {},
     "outputs": []
    }
   ],
   "metadata": {}
  }
 ]
}