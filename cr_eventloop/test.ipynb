{
 "metadata": {
  "kernelspec": {
   "codemirror_mode": {
    "name": "python",
    "version": 2
   },
   "display_name": "Python 2",
   "language": "python",
   "name": "python2"
  },
  "name": "",
  "signature": "sha256:466eb8789e896e828e11f9d566c8a777c416ad2caf6554d05561b543b0758438"
 },
 "nbformat": 3,
 "nbformat_minor": 0,
 "worksheets": [
  {
   "cells": [
    {
     "cell_type": "code",
     "collapsed": false,
     "input": [
      "from IPython.html import widgets\n",
      "from IPython.utils.traitlets import Unicode"
     ],
     "language": "python",
     "metadata": {},
     "outputs": []
    },
    {
     "cell_type": "code",
     "collapsed": false,
     "input": [
      "class VispyWidget(widgets.DOMWidget):\n",
      "    _view_name = Unicode('VispyView', sync=True)"
     ],
     "language": "python",
     "metadata": {},
     "outputs": []
    },
    {
     "cell_type": "code",
     "collapsed": false,
     "input": [
      "%%javascript\n",
      "require([\"widgets/js/widget\", \"widgets/js/manager\"],\n",
      "        function(widget, manager){\n",
      "    \n",
      "            var VispyView = IPython.DOMWidgetView.extend({\n",
      "\n",
      "                // Render the view.\n",
      "                render: function(){ \n",
      "                    this.$el.text('Hello World!'); \n",
      "                },\n",
      "            });\n",
      "\n",
      "            IPython.WidgetManager.register_widget_view('VispyView', VispyView);\n",
      "        });"
     ],
     "language": "python",
     "metadata": {},
     "outputs": []
    },
    {
     "cell_type": "code",
     "collapsed": false,
     "input": [
      "VispyWidget()"
     ],
     "language": "python",
     "metadata": {},
     "outputs": []
    },
    {
     "cell_type": "code",
     "collapsed": false,
     "input": [],
     "language": "python",
     "metadata": {},
     "outputs": []
    },
    {
     "cell_type": "code",
     "collapsed": false,
     "input": [],
     "language": "python",
     "metadata": {},
     "outputs": []
    }
   ],
   "metadata": {}
  }
 ]
}