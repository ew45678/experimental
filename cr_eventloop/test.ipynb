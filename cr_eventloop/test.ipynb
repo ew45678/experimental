{
 "metadata": {
  "kernelspec": {
   "codemirror_mode": {
    "name": "python",
    "version": 2
   },
   "display_name": "Python 2",
   "language": "python",
   "name": "python2"
  },
  "name": "",
  "signature": "sha256:5b7111563e81f4f8c9ec20f45444c72e670de975225bcc65547924ed70c08178"
 },
 "nbformat": 3,
 "nbformat_minor": 0,
 "worksheets": [
  {
   "cells": [
    {
     "cell_type": "markdown",
     "metadata": {},
     "source": [
      "# Testing Vispy.js in the notebook"
     ]
    },
    {
     "cell_type": "code",
     "collapsed": false,
     "input": [
      "import numpy as np"
     ],
     "language": "python",
     "metadata": {},
     "outputs": []
    },
    {
     "cell_type": "markdown",
     "metadata": {},
     "source": [
      "We load the vispy.js library in the notebook."
     ]
    },
    {
     "cell_type": "code",
     "collapsed": false,
     "input": [
      "%%javascript\n",
      "require.config({\n",
      "    paths: {\n",
      "        \"jquery-mousewheel\": \"//cdnjs.cloudflare.com/ajax/libs/jquery-mousewheel/3.1.11/jquery.mousewheel.min\",\n",
      "    }\n",
      "});\n",
      "if (window.vispy == undefined) {\n",
      "    $.getScript(\"/files/vispy.js/dist/vispy.min.js\", function () {\n",
      "        require([\"vispy\", \"jquery-mousewheel\"], function(vispy){\n",
      "            console.log(\"Vispy loaded.\");\n",
      "            window.vispy = vispy;\n",
      "        });\n",
      "    });\n",
      "}"
     ],
     "language": "python",
     "metadata": {},
     "outputs": []
    },
    {
     "cell_type": "markdown",
     "metadata": {},
     "source": [
      "IPython imports."
     ]
    },
    {
     "cell_type": "code",
     "collapsed": false,
     "input": [
      "from IPython.html import widgets\n",
      "from IPython.display import display_javascript, HTML\n",
      "from IPython.utils.traitlets import Unicode\n",
      "from tornado.ioloop import PeriodicCallback"
     ],
     "language": "python",
     "metadata": {},
     "outputs": []
    },
    {
     "cell_type": "code",
     "collapsed": false,
     "input": [
      "class VispyWidget(widgets.DOMWidget):\n",
      "    _view_name = Unicode('VispyView', sync=True)\n",
      "    \n",
      "    def change_color(self):\n",
      "        col = np.random.rand(3)\n",
      "        print(col)        "
     ],
     "language": "python",
     "metadata": {},
     "outputs": []
    },
    {
     "cell_type": "code",
     "collapsed": false,
     "input": [
      "%%javascript\n",
      "function update(c, r, g, b) {\n",
      "    c.on_paint(function(event) {\n",
      "        this.call(['FUNC', 'clearColor', r, g, b, 1]);\n",
      "        this.call(['FUNC', 'clear',\n",
      "                   'COLOR_BUFFER_BIT | DEPTH_BUFFER_BIT']);\n",
      "    });\n",
      "    c.initialize();\n",
      "    c.paint();\n",
      "}\n",
      "\n",
      "require([\"widgets/js/widget\", \"widgets/js/manager\"],\n",
      "function(widget, manager){\n",
      "    var VispyView = IPython.DOMWidgetView.extend({\n",
      "        render: function(){ \n",
      "\n",
      "            var canvas = $('<canvas></canvas>');\n",
      "            canvas.css('width', '500px').css('height', '200px');\n",
      "            this.$el.append(canvas);\n",
      "\n",
      "            var c = vispy.init(canvas);\n",
      "            \n",
      "            c.on_mouse_move(function(event) {\n",
      "                // Get the normalized mouse position.\n",
      "                var u = event.pos[0] / this.width;\n",
      "                var v = event.pos[1] / this.height;\n",
      "                update(c, u, v, 0);\n",
      "            });\n",
      "            \n",
      "            update(c, 0, 0, 0);\n",
      "        },\n",
      "    });\n",
      "\n",
      "    IPython.WidgetManager.register_widget_view('VispyView', VispyView);\n",
      "});"
     ],
     "language": "python",
     "metadata": {},
     "outputs": []
    },
    {
     "cell_type": "code",
     "collapsed": false,
     "input": [
      "w = VispyWidget()\n",
      "w"
     ],
     "language": "python",
     "metadata": {},
     "outputs": []
    },
    {
     "cell_type": "code",
     "collapsed": false,
     "input": [],
     "language": "python",
     "metadata": {},
     "outputs": []
    },
    {
     "cell_type": "code",
     "collapsed": false,
     "input": [],
     "language": "python",
     "metadata": {},
     "outputs": []
    },
    {
     "cell_type": "code",
     "collapsed": false,
     "input": [
      "def f():\n",
      "    print(\"hello\")\n",
      "pc = PeriodicCallback(f, 1000,)"
     ],
     "language": "python",
     "metadata": {},
     "outputs": []
    }
   ],
   "metadata": {}
  }
 ]
}